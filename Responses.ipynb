{
 "cells": [
  {
   "cell_type": "markdown",
   "metadata": {},
   "source": [
    "<h1>Take Home Challenge 1: Ultimate Technologies, Inc.</h1>\n",
    "<h2>Springboard Data Science Career Track</h2>\n",
    "\n",
    "My responses labeled"
   ]
  },
  {
   "cell_type": "markdown",
   "metadata": {},
   "source": [
    "<h3>Data description</h3>\n",
    "<ul>\n",
    "<li><b>city:</b> city this user signed up in</li>\n",
    "<li><b>phone:</b> primary device for this user</li>\n",
    "<li><b>signup_date:</b> date of account registration; in the form ‘YYYY MM DD’</li>\n",
    "<li><b>last_trip_date:</b> the last time this user completed a trip; in the form ‘YYYY MM DD’</li>\n",
    "<li><b>avg_dist:</b> the average distance in miles per trip taken in the first 30 days after signup</li>\n",
    "<li><b>avg_rating_by_driver:</b> the rider’s average rating over all of their trips</li>\n",
    "<li><b>avg_rating_of_driver:</b> the rider’s average rating of their drivers over all of their trips</li>\n",
    "<li><b>surge_pct:</b> the percent of trips taken with surge multiplier > 1</li>\n",
    "<li><b>avg_surge:</b> The average surge multiplier over all of this user’s trips</li>\n",
    "<li><b>trips_in_first_30_days:</b> the number of trips this user took in the first 30 days after signing up</li>\n",
    "<li><b>ultimate_black_user:</b> TRUE if the user took an Ultimate Black in their first 30 days; FALSE otherwise</li>\n",
    "<li><b>weekday_pct:</b> the percent of the user’s trips occurring during a weekday</li>\n",
    "</ul>"
   ]
  },
  {
   "cell_type": "markdown",
   "metadata": {},
   "source": [
    "<h3>Part 1: Exploratory Data Analysis</h3>\n",
    "\n",
    "The attached logins.json file contains (simulated) timestamps of user logins in a particular geographic location. Aggregate these login counts based on 15-minute time intervals, and visualize and describe the resulting time series of login counts in ways that best characterize the underlying patterns of the demand. Please report/illustrate important features of the demand, such as daily cycles. If there are data quality issues, please report them."
   ]
  },
  {
   "cell_type": "code",
   "execution_count": 3,
   "metadata": {},
   "outputs": [
    {
     "data": {
      "text/html": [
       "<div>\n",
       "<style scoped>\n",
       "    .dataframe tbody tr th:only-of-type {\n",
       "        vertical-align: middle;\n",
       "    }\n",
       "\n",
       "    .dataframe tbody tr th {\n",
       "        vertical-align: top;\n",
       "    }\n",
       "\n",
       "    .dataframe thead th {\n",
       "        text-align: right;\n",
       "    }\n",
       "</style>\n",
       "<table border=\"1\" class=\"dataframe\">\n",
       "  <thead>\n",
       "    <tr style=\"text-align: right;\">\n",
       "      <th></th>\n",
       "    </tr>\n",
       "    <tr>\n",
       "      <th>login_time</th>\n",
       "    </tr>\n",
       "  </thead>\n",
       "  <tbody>\n",
       "    <tr>\n",
       "      <th>1970-01-01 20:13:18</th>\n",
       "    </tr>\n",
       "    <tr>\n",
       "      <th>1970-01-01 20:16:10</th>\n",
       "    </tr>\n",
       "    <tr>\n",
       "      <th>1970-01-01 20:16:37</th>\n",
       "    </tr>\n",
       "    <tr>\n",
       "      <th>1970-01-01 20:16:36</th>\n",
       "    </tr>\n",
       "    <tr>\n",
       "      <th>1970-01-01 20:26:21</th>\n",
       "    </tr>\n",
       "  </tbody>\n",
       "</table>\n",
       "</div>"
      ],
      "text/plain": [
       "Empty DataFrame\n",
       "Columns: []\n",
       "Index: [1970-01-01 20:13:18, 1970-01-01 20:16:10, 1970-01-01 20:16:37, 1970-01-01 20:16:36, 1970-01-01 20:26:21]"
      ]
     },
     "execution_count": 3,
     "metadata": {},
     "output_type": "execute_result"
    }
   ],
   "source": [
    "import pandas as pd\n",
    "import seaborn as sns\n",
    "\n",
    "logdf = pd.read_json('logins.json')\n",
    "logdf.set_index('login_time', inplace=True)\n",
    "logdf.head()"
   ]
  },
  {
   "cell_type": "code",
   "execution_count": 2,
   "metadata": {},
   "outputs": [
    {
     "data": {
      "text/plain": [
       "(93142, 0)"
      ]
     },
     "execution_count": 2,
     "metadata": {},
     "output_type": "execute_result"
    }
   ],
   "source": [
    "logdf.shape"
   ]
  },
  {
   "cell_type": "markdown",
   "metadata": {},
   "source": [
    "<b>(Me)</b> Looks like we have 93,000 logins. Year is not being recorded correctly, and month might not be either, but <i>relative</i> days should be fine—we have 102 consecutive days from the day labeled \"Jan 1\" to the day labeled \"Apr 13\". Another issue is that the first and last days are incomplete. We can drop them to get 100 full days if needed."
   ]
  },
  {
   "cell_type": "code",
   "execution_count": 3,
   "metadata": {},
   "outputs": [
    {
     "data": {
      "text/html": [
       "<div>\n",
       "<style scoped>\n",
       "    .dataframe tbody tr th:only-of-type {\n",
       "        vertical-align: middle;\n",
       "    }\n",
       "\n",
       "    .dataframe tbody tr th {\n",
       "        vertical-align: top;\n",
       "    }\n",
       "\n",
       "    .dataframe thead th {\n",
       "        text-align: right;\n",
       "    }\n",
       "</style>\n",
       "<table border=\"1\" class=\"dataframe\">\n",
       "  <thead>\n",
       "    <tr style=\"text-align: right;\">\n",
       "      <th></th>\n",
       "      <th>count</th>\n",
       "    </tr>\n",
       "    <tr>\n",
       "      <th>login_time</th>\n",
       "      <th></th>\n",
       "    </tr>\n",
       "  </thead>\n",
       "  <tbody>\n",
       "    <tr>\n",
       "      <th>1970-01-01 20:00:00</th>\n",
       "      <td>2</td>\n",
       "    </tr>\n",
       "    <tr>\n",
       "      <th>1970-01-01 20:15:00</th>\n",
       "      <td>6</td>\n",
       "    </tr>\n",
       "    <tr>\n",
       "      <th>1970-01-01 20:30:00</th>\n",
       "      <td>9</td>\n",
       "    </tr>\n",
       "    <tr>\n",
       "      <th>1970-01-01 20:45:00</th>\n",
       "      <td>7</td>\n",
       "    </tr>\n",
       "    <tr>\n",
       "      <th>1970-01-01 21:00:00</th>\n",
       "      <td>1</td>\n",
       "    </tr>\n",
       "  </tbody>\n",
       "</table>\n",
       "</div>"
      ],
      "text/plain": [
       "                     count\n",
       "login_time                \n",
       "1970-01-01 20:00:00      2\n",
       "1970-01-01 20:15:00      6\n",
       "1970-01-01 20:30:00      9\n",
       "1970-01-01 20:45:00      7\n",
       "1970-01-01 21:00:00      1"
      ]
     },
     "execution_count": 3,
     "metadata": {},
     "output_type": "execute_result"
    }
   ],
   "source": [
    "logdf['count'] = 1\n",
    "logdf15min = logdf.resample('15min').count()\n",
    "logdf15min.head()"
   ]
  },
  {
   "cell_type": "code",
   "execution_count": 4,
   "metadata": {},
   "outputs": [
    {
     "data": {
      "text/plain": [
       "(9788, 1)"
      ]
     },
     "execution_count": 4,
     "metadata": {},
     "output_type": "execute_result"
    }
   ],
   "source": [
    "logdf15min.shape"
   ]
  },
  {
   "cell_type": "code",
   "execution_count": 5,
   "metadata": {},
   "outputs": [
    {
     "data": {
      "text/plain": [
       "Text(0.5, 1.0, 'Logins by Time of Day for Jan 2')"
      ]
     },
     "execution_count": 5,
     "metadata": {},
     "output_type": "execute_result"
    },
    {
     "data": {
      "image/png": "[encoded data removed]",
      "text/plain": [
       "<Figure size 432x288 with 1 Axes>"
      ]
     },
     "metadata": {
      "needs_background": "light"
     },
     "output_type": "display_data"
    }
   ],
   "source": [
    "# Graph the first full day\n",
    "day2df = logdf15min.iloc[16:113]\n",
    "\n",
    "ax = sns.barplot(x=day2df.index, y='count', data=day2df)\n",
    "ax.set_xlabel(\"Time of Day\")\n",
    "ax.set_ylabel(\"Logins\")\n",
    "ax.set_yticks([5*i for i in range(5)])\n",
    "ax.set_xticks([24*i for i in range(5)])\n",
    "ax.set_xticklabels(['00:00', '06:00', '12:00', '18:00', '00:00'])\n",
    "ax.set_title(\"Logins by Time of Day for Jan 2\")"
   ]
  },
  {
   "cell_type": "markdown",
   "metadata": {},
   "source": [
    "<b>(Me)</b> From this graph, it appears there are two main demand peaks, in line with my intuition (morning commute and evenings). Based the incorrectly labeled year coupled with the awkward peak times seen here, I would assume what is currently labeled 6:00 AM is actually around 2:00 AM.\n",
    "\n",
    "We'll need to take summary statistics across days to see if there is a pattern."
   ]
  },
  {
   "cell_type": "code",
   "execution_count": 6,
   "metadata": {},
   "outputs": [
    {
     "data": {
      "text/plain": [
       "Text(0.5, 1.0, \"Average Day's Demand Cycle\")"
      ]
     },
     "execution_count": 6,
     "metadata": {},
     "output_type": "execute_result"
    },
    {
     "data": {
      "image/png": "[encoded data removed]",
      "text/plain": [
       "<Figure size 432x288 with 1 Axes>"
      ]
     },
     "metadata": {
      "needs_background": "light"
     },
     "output_type": "display_data"
    }
   ],
   "source": [
    "# Determining the Average Day\n",
    "# Group by time of day across all days, take the average demand\n",
    "\n",
    "logdf_group_tod = logdf15min.copy(deep=True)\n",
    "logdf_group_tod['time_of_day'] = logdf_group_tod.index.strftime('%H:%M')\n",
    "\n",
    "tod_mean = logdf_group_tod.groupby('time_of_day').mean()\n",
    "\n",
    "ax = sns.barplot(x=tod_mean.index, y='count', data=tod_mean)\n",
    "ax.set_xlabel(\"Time of Day\")\n",
    "ax.set_ylabel(\"Average Logins\")\n",
    "ax.set_yticks([5*i for i in range(5)])\n",
    "ax.set_xticks([24*i for i in range(5)])\n",
    "ax.set_xticklabels(['00:00', '06:00', '12:00', '18:00', '00:00'])\n",
    "ax.set_title(\"Average Day's Demand Cycle\")"
   ]
  },
  {
   "cell_type": "markdown",
   "metadata": {},
   "source": [
    "<b>(Me)</b> January 2 proved to be a fairly average day. It's probably correct that what's currently labeled as 6:00AM is an early morning hour, because we clearly see that midnight-to-midnight is in the middle of a demand peak. That assumption means we see steady demand in all daylight hours, with a peak during morning commute and all throughout the active evening hours."
   ]
  },
  {
   "cell_type": "code",
   "execution_count": 7,
   "metadata": {},
   "outputs": [
    {
     "data": {
      "text/plain": [
       "Text(0.5, 1.0, \"Average Week's Demand Cycle\")"
      ]
     },
     "execution_count": 7,
     "metadata": {},
     "output_type": "execute_result"
    },
    {
     "data": {
      "image/png": "[encoded data removed]",
      "text/plain": [
       "<Figure size 432x288 with 1 Axes>"
      ]
     },
     "metadata": {
      "needs_background": "light"
     },
     "output_type": "display_data"
    }
   ],
   "source": [
    "# Determining the Average Week\n",
    "# Group by day across all, take the average demand\n",
    "\n",
    "\n",
    "logdf['count'] = 1\n",
    "logdf_byday = logdf.resample('D').count()\n",
    "logdf_byday = logdf_byday.iloc[1:-1]\n",
    "\n",
    "logdf_byday['weekday'] = logdf_byday.index.weekday\n",
    "\n",
    "wk_mean = logdf_byday.groupby('weekday').mean()\n",
    "\n",
    "ax = sns.barplot(x=wk_mean.index, y='count', data=wk_mean)\n",
    "ax.set_xlabel(\"Weekday\")\n",
    "ax.set_ylabel(\"Average Logins\")\n",
    "ax.set_xticklabels([\"M\", \"T\", \"W\", \"R\", \"F\", \"Sa\", \"Su\"])\n",
    "ax.set_title(\"Average Week's Demand Cycle\")"
   ]
  },
  {
   "cell_type": "markdown",
   "metadata": {},
   "source": [
    "<b>(Me)</b> Demand is lowest on Monday, rising throughout the week to a peak on Saturday and Sunday to a heavy drop on Monday. Seems like they are labeled correctly. This could correspond with weekend tourism, perhaps."
   ]
  },
  {
   "cell_type": "code",
   "execution_count": 8,
   "metadata": {},
   "outputs": [
    {
     "data": {
      "text/plain": [
       "Text(0.5, 1.0, 'Logins per Day')"
      ]
     },
     "execution_count": 8,
     "metadata": {},
     "output_type": "execute_result"
    },
    {
     "data": {
      "image/png": "[encoded data removed]",
      "text/plain": [
       "<Figure size 432x288 with 1 Axes>"
      ]
     },
     "metadata": {
      "needs_background": "light"
     },
     "output_type": "display_data"
    }
   ],
   "source": [
    "# Graph the period by day to see if there is seasonality\n",
    "\n",
    "ax = sns.barplot(x=logdf_byday.index, y='count', data=logdf_byday)\n",
    "ax.set_xlabel(\"Day of Year\")\n",
    "ax.set_ylabel(\"Logins\")\n",
    "ax.set_xticks([0, 30, 58, 89])\n",
    "ax.set_xticklabels(['Jan 2', 'Feb 1', 'Mar 1', 'Apr 1'])\n",
    "ax.set_title(\"Logins per Day\")"
   ]
  },
  {
   "cell_type": "markdown",
   "metadata": {},
   "source": [
    "<b>(Me)</b> Clearly demand is cyclical by week, but we are also observing an overall upward trend across the observation period. This could be seasonality but it could also be the app gaining popularity over time."
   ]
  },
  {
   "cell_type": "markdown",
   "metadata": {},
   "source": [
    "<h3>Part 2: Experiment and Metrics Design</h3>\n",
    "\n",
    "The neighboring cities of Gotham and Metropolis have complementary circadian rhythms: on weekdays, Ultimate Gotham is most active at night, and Ultimate Metropolis is most active during the day. On weekends, there is reasonable activity in both cities.\n",
    "\n",
    "However, a toll bridge, with a two way toll, between the two cities causes driver partners to tend to be exclusive to each city. The Ultimate managers of city operations for the two cities have proposed an experiment to encourage driver partners to be available in both cities, by reimbursing all toll costs.\n",
    "\n",
    "1. What would you choose as the key measure of success of this experiment in encouraging driver partners to serve both cities, and why would you choose this metric?\n",
    "\n",
    "2. Describe a practical experiment you would design to compare the effectiveness of the proposed change in relation to the key measure of success. Please provide details on:\n",
    "\n",
    "    a. how you will implement the experiment\n",
    "    \n",
    "    b. what statistical test(s) you will conduct to verify the significance of the observation\n",
    "    \n",
    "    c. how you would interpret the results and provide recommendations to the city operations team along with any caveats."
   ]
  },
  {
   "cell_type": "markdown",
   "metadata": {},
   "source": [
    "<h4>My Responses to Part 2</h4>\n",
    "\n",
    "1. <b>For my key metric of success, I would choose mean wait time of all rides in both cities.</b> This is what we are ultimately trying to minimize with this initiative to increase operations in both metropolitan areas. This metric is simple, easy to track, and it should be pretty sensitive to our desired condition—if either city is under-served, our metric will detect the increase in median wait time. One potential issue is that riders get a predicted wait time, so the ones that see the longest waits might be self-selecting out of the model. We could fix this by targeting median predicted wait time, but that chases a different goal (we just want driver crossover for this experiment).\n",
    "\n",
    "\n",
    "2. <b>Designing the Experiment</b>\n",
    "\n",
    "    a. <b>We should select a control week during which to gather data, and then the following week, implement our experimental condition: reimbursement of toll costs for some proportion (e.g. 20%) of drivers.</b> (Importantly, we cannot divide the drivers into experiment and control because they are concurrently pulling from the same rider base. There's no way for the \"control\" group to be unaffected by the behavior of the experimental group.) Harvesting our target variable will be easy; just check the time between when a ride is called and when it arrives. This design leaves us sensitive to lurking variables that change over time, so we should check each city's schedule and pick weeks where no special events will affect our observation, make sure the marketing team has no outstanding promotionals, and account for any seasonality or growing popularity in the statistical tests.\n",
    "    \n",
    "    b. We will run a difference of means between the experimental week and the control week. Importantly, our test is senstivite to outliers, so we should check to make sure no outliers unnecessarily cloud our results. We should also make sure that we account for any seasonality—this should not be a problem if we select two very similar weeks. Then we create a confidence interval and check to see if zero is in the confidence interval. If zero is within our confidence interval, that means one of our best guesses for the increase from Week 1 to Week 2 is <i>no increase at all,</i> so we would have no reason to move forward with this change.\n",
    "    \n",
    "    c. If we see a significant change in favor of Week 2, that signals evidence to implement a new policy, but not without reservations. Once we begin reimbursing tolls, drivers will be incentivized to test out a new driving pattern to see if it's worth their effort. If we roll out this change to all drivers at once, a tragedy of the commons could happen: all drivers test out the new route at once, plummet each other's profits, and learn that crossing cities has no reward. I would recommend rolling this out in phases. \"Grandfather in\" the drivers who participated in the experiment by extending their toll reimbursements indefinitely. This will allow us to gradually add confidence in the drivers' long-term reaction to the reimbursed tolls, and it will also allow us to slowly increase the proportion of reimbursed drivers until we achieve our desired wait time."
   ]
  },
  {
   "cell_type": "markdown",
   "metadata": {},
   "source": [
    "<h3>Part 3: Predictive Modeling</h3>\n",
    "\n",
    "Ultimate is interested in predicting rider retention. To help explore this question, we have provided a sample dataset of a cohort of users who signed up for an Ultimate account in January 2014. The data was pulled several months later; we consider a user retained if they were “active” (i.e. took a trip) in the preceding 30 days.\n",
    "\n",
    "We would like you to use this data set to help understand what factors are the best predictors for retention, and offer suggestions to operationalize those insights to help Ultimate.\n",
    "\n",
    "The data is in the attached file ultimate_data_challenge.json. See below for a detailed description of the dataset. Please include any code you wrote for the analysis and delete the dataset when you have finished with the challenge."
   ]
  },
  {
   "cell_type": "markdown",
   "metadata": {},
   "source": [
    "1. Perform any cleaning, exploratory analysis, and/or visualizations to use the provided data for this analysis (a few sentences/plots describing your approach will suffice). What fraction of the observed users were retained?"
   ]
  },
  {
   "cell_type": "code",
   "execution_count": 4,
   "metadata": {},
   "outputs": [
    {
     "data": {
      "text/html": [
       "<div>\n",
       "<style scoped>\n",
       "    .dataframe tbody tr th:only-of-type {\n",
       "        vertical-align: middle;\n",
       "    }\n",
       "\n",
       "    .dataframe tbody tr th {\n",
       "        vertical-align: top;\n",
       "    }\n",
       "\n",
       "    .dataframe thead th {\n",
       "        text-align: right;\n",
       "    }\n",
       "</style>\n",
       "<table border=\"1\" class=\"dataframe\">\n",
       "  <thead>\n",
       "    <tr style=\"text-align: right;\">\n",
       "      <th></th>\n",
       "      <th>avg_dist</th>\n",
       "      <th>avg_rating_by_driver</th>\n",
       "      <th>avg_rating_of_driver</th>\n",
       "      <th>avg_surge</th>\n",
       "      <th>city</th>\n",
       "      <th>last_trip_date</th>\n",
       "      <th>phone</th>\n",
       "      <th>signup_date</th>\n",
       "      <th>surge_pct</th>\n",
       "      <th>trips_in_first_30_days</th>\n",
       "      <th>ultimate_black_user</th>\n",
       "      <th>weekday_pct</th>\n",
       "    </tr>\n",
       "  </thead>\n",
       "  <tbody>\n",
       "    <tr>\n",
       "      <th>0</th>\n",
       "      <td>3.67</td>\n",
       "      <td>5.0</td>\n",
       "      <td>4.7</td>\n",
       "      <td>1.10</td>\n",
       "      <td>King's Landing</td>\n",
       "      <td>2014-06-17</td>\n",
       "      <td>iPhone</td>\n",
       "      <td>2014-01-25</td>\n",
       "      <td>15.4</td>\n",
       "      <td>4</td>\n",
       "      <td>True</td>\n",
       "      <td>46.2</td>\n",
       "    </tr>\n",
       "    <tr>\n",
       "      <th>1</th>\n",
       "      <td>8.26</td>\n",
       "      <td>5.0</td>\n",
       "      <td>5.0</td>\n",
       "      <td>1.00</td>\n",
       "      <td>Astapor</td>\n",
       "      <td>2014-05-05</td>\n",
       "      <td>Android</td>\n",
       "      <td>2014-01-29</td>\n",
       "      <td>0.0</td>\n",
       "      <td>0</td>\n",
       "      <td>False</td>\n",
       "      <td>50.0</td>\n",
       "    </tr>\n",
       "    <tr>\n",
       "      <th>2</th>\n",
       "      <td>0.77</td>\n",
       "      <td>5.0</td>\n",
       "      <td>4.3</td>\n",
       "      <td>1.00</td>\n",
       "      <td>Astapor</td>\n",
       "      <td>2014-01-07</td>\n",
       "      <td>iPhone</td>\n",
       "      <td>2014-01-06</td>\n",
       "      <td>0.0</td>\n",
       "      <td>3</td>\n",
       "      <td>False</td>\n",
       "      <td>100.0</td>\n",
       "    </tr>\n",
       "    <tr>\n",
       "      <th>3</th>\n",
       "      <td>2.36</td>\n",
       "      <td>4.9</td>\n",
       "      <td>4.6</td>\n",
       "      <td>1.14</td>\n",
       "      <td>King's Landing</td>\n",
       "      <td>2014-06-29</td>\n",
       "      <td>iPhone</td>\n",
       "      <td>2014-01-10</td>\n",
       "      <td>20.0</td>\n",
       "      <td>9</td>\n",
       "      <td>True</td>\n",
       "      <td>80.0</td>\n",
       "    </tr>\n",
       "    <tr>\n",
       "      <th>4</th>\n",
       "      <td>3.13</td>\n",
       "      <td>4.9</td>\n",
       "      <td>4.4</td>\n",
       "      <td>1.19</td>\n",
       "      <td>Winterfell</td>\n",
       "      <td>2014-03-15</td>\n",
       "      <td>Android</td>\n",
       "      <td>2014-01-27</td>\n",
       "      <td>11.8</td>\n",
       "      <td>14</td>\n",
       "      <td>False</td>\n",
       "      <td>82.4</td>\n",
       "    </tr>\n",
       "  </tbody>\n",
       "</table>\n",
       "</div>"
      ],
      "text/plain": [
       "   avg_dist  avg_rating_by_driver  avg_rating_of_driver  avg_surge  \\\n",
       "0      3.67                   5.0                   4.7       1.10   \n",
       "1      8.26                   5.0                   5.0       1.00   \n",
       "2      0.77                   5.0                   4.3       1.00   \n",
       "3      2.36                   4.9                   4.6       1.14   \n",
       "4      3.13                   4.9                   4.4       1.19   \n",
       "\n",
       "             city last_trip_date    phone signup_date  surge_pct  \\\n",
       "0  King's Landing     2014-06-17   iPhone  2014-01-25       15.4   \n",
       "1         Astapor     2014-05-05  Android  2014-01-29        0.0   \n",
       "2         Astapor     2014-01-07   iPhone  2014-01-06        0.0   \n",
       "3  King's Landing     2014-06-29   iPhone  2014-01-10       20.0   \n",
       "4      Winterfell     2014-03-15  Android  2014-01-27       11.8   \n",
       "\n",
       "   trips_in_first_30_days  ultimate_black_user  weekday_pct  \n",
       "0                       4                 True         46.2  \n",
       "1                       0                False         50.0  \n",
       "2                       3                False        100.0  \n",
       "3                       9                 True         80.0  \n",
       "4                      14                False         82.4  "
      ]
     },
     "execution_count": 4,
     "metadata": {},
     "output_type": "execute_result"
    }
   ],
   "source": [
    "# Pandas wasn't wanting to load this correctly\n",
    "\n",
    "import json\n",
    "with open('ultimate_data_challenge.json') as file:\n",
    "    data = json.load(file)\n",
    "df = pd.DataFrame(data)\n",
    "\n",
    "df.head()"
   ]
  },
  {
   "cell_type": "code",
   "execution_count": 5,
   "metadata": {},
   "outputs": [
    {
     "data": {
      "text/plain": [
       "avg_dist                  float64\n",
       "avg_rating_by_driver      float64\n",
       "avg_rating_of_driver      float64\n",
       "avg_surge                 float64\n",
       "city                       object\n",
       "last_trip_date             object\n",
       "phone                      object\n",
       "signup_date                object\n",
       "surge_pct                 float64\n",
       "trips_in_first_30_days      int64\n",
       "ultimate_black_user          bool\n",
       "weekday_pct               float64\n",
       "dtype: object"
      ]
     },
     "execution_count": 5,
     "metadata": {},
     "output_type": "execute_result"
    }
   ],
   "source": [
    "df.dtypes"
   ]
  },
  {
   "cell_type": "code",
   "execution_count": 6,
   "metadata": {},
   "outputs": [
    {
     "name": "stdout",
     "output_type": "stream",
     "text": [
      "2014-07-01 00:00:00\n"
     ]
    }
   ],
   "source": [
    "# Convert datetime columns to datetime, then determine target range\n",
    "signups = pd.to_datetime(df['signup_date'])\n",
    "df['signup_date'] = [entry.day for entry in signups]\n",
    "df['last_trip_date'] = pd.to_datetime(df['last_trip_date'])\n",
    "\n",
    "print(df['last_trip_date'].max())"
   ]
  },
  {
   "cell_type": "code",
   "execution_count": 7,
   "metadata": {},
   "outputs": [
    {
     "data": {
      "text/html": [
       "<div>\n",
       "<style scoped>\n",
       "    .dataframe tbody tr th:only-of-type {\n",
       "        vertical-align: middle;\n",
       "    }\n",
       "\n",
       "    .dataframe tbody tr th {\n",
       "        vertical-align: top;\n",
       "    }\n",
       "\n",
       "    .dataframe thead th {\n",
       "        text-align: right;\n",
       "    }\n",
       "</style>\n",
       "<table border=\"1\" class=\"dataframe\">\n",
       "  <thead>\n",
       "    <tr style=\"text-align: right;\">\n",
       "      <th></th>\n",
       "      <th>avg_dist</th>\n",
       "      <th>avg_rating_by_driver</th>\n",
       "      <th>avg_rating_of_driver</th>\n",
       "      <th>avg_surge</th>\n",
       "      <th>signup_date</th>\n",
       "      <th>surge_pct</th>\n",
       "      <th>trips_in_first_30_days</th>\n",
       "      <th>weekday_pct</th>\n",
       "      <th>retained</th>\n",
       "      <th>city_King's Landing</th>\n",
       "      <th>city_Winterfell</th>\n",
       "      <th>phone_iPhone</th>\n",
       "      <th>ultimate_black_user_True</th>\n",
       "    </tr>\n",
       "  </thead>\n",
       "  <tbody>\n",
       "    <tr>\n",
       "      <th>0</th>\n",
       "      <td>3.67</td>\n",
       "      <td>5.0</td>\n",
       "      <td>4.7</td>\n",
       "      <td>1.10</td>\n",
       "      <td>25</td>\n",
       "      <td>15.4</td>\n",
       "      <td>4</td>\n",
       "      <td>46.2</td>\n",
       "      <td>1</td>\n",
       "      <td>1</td>\n",
       "      <td>0</td>\n",
       "      <td>1</td>\n",
       "      <td>1</td>\n",
       "    </tr>\n",
       "    <tr>\n",
       "      <th>1</th>\n",
       "      <td>8.26</td>\n",
       "      <td>5.0</td>\n",
       "      <td>5.0</td>\n",
       "      <td>1.00</td>\n",
       "      <td>29</td>\n",
       "      <td>0.0</td>\n",
       "      <td>0</td>\n",
       "      <td>50.0</td>\n",
       "      <td>0</td>\n",
       "      <td>0</td>\n",
       "      <td>0</td>\n",
       "      <td>0</td>\n",
       "      <td>0</td>\n",
       "    </tr>\n",
       "    <tr>\n",
       "      <th>2</th>\n",
       "      <td>0.77</td>\n",
       "      <td>5.0</td>\n",
       "      <td>4.3</td>\n",
       "      <td>1.00</td>\n",
       "      <td>6</td>\n",
       "      <td>0.0</td>\n",
       "      <td>3</td>\n",
       "      <td>100.0</td>\n",
       "      <td>0</td>\n",
       "      <td>0</td>\n",
       "      <td>0</td>\n",
       "      <td>1</td>\n",
       "      <td>0</td>\n",
       "    </tr>\n",
       "    <tr>\n",
       "      <th>3</th>\n",
       "      <td>2.36</td>\n",
       "      <td>4.9</td>\n",
       "      <td>4.6</td>\n",
       "      <td>1.14</td>\n",
       "      <td>10</td>\n",
       "      <td>20.0</td>\n",
       "      <td>9</td>\n",
       "      <td>80.0</td>\n",
       "      <td>1</td>\n",
       "      <td>1</td>\n",
       "      <td>0</td>\n",
       "      <td>1</td>\n",
       "      <td>1</td>\n",
       "    </tr>\n",
       "    <tr>\n",
       "      <th>4</th>\n",
       "      <td>3.13</td>\n",
       "      <td>4.9</td>\n",
       "      <td>4.4</td>\n",
       "      <td>1.19</td>\n",
       "      <td>27</td>\n",
       "      <td>11.8</td>\n",
       "      <td>14</td>\n",
       "      <td>82.4</td>\n",
       "      <td>0</td>\n",
       "      <td>0</td>\n",
       "      <td>1</td>\n",
       "      <td>0</td>\n",
       "      <td>0</td>\n",
       "    </tr>\n",
       "  </tbody>\n",
       "</table>\n",
       "</div>"
      ],
      "text/plain": [
       "   avg_dist  avg_rating_by_driver  avg_rating_of_driver  avg_surge  \\\n",
       "0      3.67                   5.0                   4.7       1.10   \n",
       "1      8.26                   5.0                   5.0       1.00   \n",
       "2      0.77                   5.0                   4.3       1.00   \n",
       "3      2.36                   4.9                   4.6       1.14   \n",
       "4      3.13                   4.9                   4.4       1.19   \n",
       "\n",
       "   signup_date  surge_pct  trips_in_first_30_days  weekday_pct  retained  \\\n",
       "0           25       15.4                       4         46.2         1   \n",
       "1           29        0.0                       0         50.0         0   \n",
       "2            6        0.0                       3        100.0         0   \n",
       "3           10       20.0                       9         80.0         1   \n",
       "4           27       11.8                      14         82.4         0   \n",
       "\n",
       "   city_King's Landing  city_Winterfell  phone_iPhone  \\\n",
       "0                    1                0             1   \n",
       "1                    0                0             0   \n",
       "2                    0                0             1   \n",
       "3                    1                0             1   \n",
       "4                    0                1             0   \n",
       "\n",
       "   ultimate_black_user_True  \n",
       "0                         1  \n",
       "1                         0  \n",
       "2                         0  \n",
       "3                         1  \n",
       "4                         0  "
      ]
     },
     "execution_count": 7,
     "metadata": {},
     "output_type": "execute_result"
    }
   ],
   "source": [
    "# Create the target variable, 'retained', and drop the column it came from\n",
    "df['retained'] = 0\n",
    "df.loc[df['last_trip_date'].dt.month >= 6, 'retained'] = 1\n",
    "df.drop('last_trip_date', axis=1, inplace=True)\n",
    "\n",
    "# One hot encode all the categorical features\n",
    "dummiescols = ['city', 'phone', 'ultimate_black_user']\n",
    "df = pd.get_dummies(df, prefix=dummiescols, columns=dummiescols, drop_first=True)\n",
    "\n",
    "df.head()"
   ]
  },
  {
   "cell_type": "code",
   "execution_count": 8,
   "metadata": {},
   "outputs": [
    {
     "data": {
      "text/plain": [
       "0    31196\n",
       "1    18804\n",
       "Name: retained, dtype: int64"
      ]
     },
     "execution_count": 8,
     "metadata": {},
     "output_type": "execute_result"
    }
   ],
   "source": [
    "df['retained'].value_counts()"
   ]
  },
  {
   "cell_type": "code",
   "execution_count": 9,
   "metadata": {},
   "outputs": [
    {
     "name": "stdout",
     "output_type": "stream",
     "text": [
      "37.61% of users were retained.\n"
     ]
    }
   ],
   "source": [
    "pct_retained = round(18804/(18804+31196) * 100, 2)\n",
    "print(f'{pct_retained}% of users were retained.')"
   ]
  },
  {
   "cell_type": "markdown",
   "metadata": {},
   "source": [
    "2. Build a predictive model to help Ultimate determine whether or not a user will be active in their 6th month on the system. Discuss why you chose your approach, what alternatives you considered, and any concerns you have. How valid is your model? Include any key indicators of model performance."
   ]
  },
  {
   "cell_type": "markdown",
   "metadata": {},
   "source": [
    "<b>(Me)</b> Since this is a binomial classification problem, the most sensible first approach is logistic regression. This model is the easiest to interpret—it directly ranks the importance of the features by assigning them coefficient values. The bigger the magnitude of the coefficient, the more important the feature.\n",
    "\n",
    "Other suitable models include XGBClassifier (a random forest ensemble method), K Nearest Neighbors, Naive Bayes Classifier, or even a Reinforcement Learning Classifier.</font>"
   ]
  },
  {
   "cell_type": "code",
   "execution_count": 10,
   "metadata": {},
   "outputs": [],
   "source": [
    "from sklearn.model_selection import train_test_split\n",
    "from sklearn.linear_model import LogisticRegressionCV\n",
    "import numpy as np\n",
    "\n",
    "np.random.seed(0)\n",
    "\n",
    "target = df['retained']\n",
    "features = df.drop('retained', axis=1)\n",
    "features.fillna('0', inplace=True)\n",
    "features['avg_rating_by_driver'] = features['avg_rating_by_driver'].astype('float64')\n",
    "features['avg_rating_of_driver'] = features['avg_rating_of_driver'].astype('float64')\n",
    "\n",
    "X_train, X_test, y_train, y_test = train_test_split(features, target)"
   ]
  },
  {
   "cell_type": "code",
   "execution_count": 11,
   "metadata": {},
   "outputs": [
    {
     "data": {
      "text/plain": [
       "0.72648"
      ]
     },
     "execution_count": 11,
     "metadata": {},
     "output_type": "execute_result"
    }
   ],
   "source": [
    "lr = LogisticRegressionCV(solver='liblinear', cv=10)\n",
    "lr.fit(X_train, y_train)\n",
    "lr.score(X_test, y_test)"
   ]
  },
  {
   "cell_type": "code",
   "execution_count": 12,
   "metadata": {},
   "outputs": [
    {
     "name": "stdout",
     "output_type": "stream",
     "text": [
      "[('avg_dist', -0.03), ('avg_rating_by_driver', -0.11), ('avg_rating_of_driver', 0.12), ('avg_surge', -0.2), ('signup_date', -0.01), ('surge_pct', 0.0), ('trips_in_first_30_days', 0.11), ('weekday_pct', -0.0), (\"city_King's Landing\", 1.67), ('city_Winterfell', 0.53), ('phone_iPhone', 1.09), ('ultimate_black_user_True', 0.87)]\n"
     ]
    }
   ],
   "source": [
    "cols = [col for col in features.columns]\n",
    "coefs = [round(coef, 2) for coef in lr.coef_[0]]\n",
    "coefficients = zip(cols, coefs)\n",
    "\n",
    "print(list(coefficients))"
   ]
  },
  {
   "cell_type": "code",
   "execution_count": 17,
   "metadata": {},
   "outputs": [
    {
     "name": "stdout",
     "output_type": "stream",
     "text": [
      "[[6748 1060]\n",
      " [2359 2333]]\n"
     ]
    }
   ],
   "source": [
    "from sklearn.metrics import confusion_matrix\n",
    "\n",
    "y_pred = lr.predict(X_test)\n",
    "cm = confusion_matrix(y_test, y_pred)\n",
    "print(cm)"
   ]
  },
  {
   "cell_type": "markdown",
   "metadata": {},
   "source": [
    "<b>(Me)</b> Our first model lacks in both precision and recall. However, it does give us some insights about the key indicators, particulary when it comes to the dummy variables. Being from King's Landing, using an iPhone, and using Ultimate Black were the most important predictors. Next, I'll try an XGBClassifier: much more of a \"black box\", but a lot more accurate."
   ]
  },
  {
   "cell_type": "code",
   "execution_count": 18,
   "metadata": {},
   "outputs": [
    {
     "data": {
      "text/plain": [
       "0.79784"
      ]
     },
     "execution_count": 18,
     "metadata": {},
     "output_type": "execute_result"
    }
   ],
   "source": [
    "from xgboost.sklearn import XGBClassifier\n",
    "from sklearn.model_selection import GridSearchCV\n",
    "\n",
    "xgb = XGBClassifier()\n",
    "\n",
    "param_grid = {'max_depth': [2, 3, 4, 5],\n",
    "              'learning_rate': [0.5, 0.1, 0.2],\n",
    "              'n_estimators': [30, 100, 300]}\n",
    "\n",
    "xgb_grid = GridSearchCV(xgb, param_grid=param_grid, cv=3)\n",
    "\n",
    "xgb_grid.fit(X_train, y_train)\n",
    "xgb_grid.score(X_test, y_test)"
   ]
  },
  {
   "cell_type": "code",
   "execution_count": 19,
   "metadata": {},
   "outputs": [
    {
     "data": {
      "text/plain": [
       "{'learning_rate': 0.1, 'max_depth': 4, 'n_estimators': 300}"
      ]
     },
     "execution_count": 19,
     "metadata": {},
     "output_type": "execute_result"
    }
   ],
   "source": [
    "xgb_grid.best_params_"
   ]
  },
  {
   "cell_type": "code",
   "execution_count": 20,
   "metadata": {},
   "outputs": [
    {
     "name": "stdout",
     "output_type": "stream",
     "text": [
      "[('avg_dist', 0.01), ('avg_rating_by_driver', 0.18), ('avg_rating_of_driver', 0.02), ('avg_surge', 0.01), ('signup_date', 0.01), ('surge_pct', 0.11), ('trips_in_first_30_days', 0.03), ('weekday_pct', 0.06), (\"city_King's Landing\", 0.2), ('city_Winterfell', 0.05), ('phone_iPhone', 0.18), ('ultimate_black_user_True', 0.14)]\n"
     ]
    }
   ],
   "source": [
    "xgb = XGBClassifier(learning_rate=0.1, max_depth=4, n_estimators=300)\n",
    "xgb.fit(X_train, y_train)\n",
    "\n",
    "cols = [col for col in features.columns]\n",
    "weights = [round(weight, 2) for weight in xgb.feature_importances_]\n",
    "importances = zip(cols, weights)\n",
    "\n",
    "print(list(importances))"
   ]
  },
  {
   "cell_type": "code",
   "execution_count": 23,
   "metadata": {},
   "outputs": [
    {
     "name": "stdout",
     "output_type": "stream",
     "text": [
      "[[6837  971]\n",
      " [1556 3136]]\n"
     ]
    }
   ],
   "source": [
    "y_pred2 = xgb.predict(X_test)\n",
    "cm2 = confusion_matrix(y_test, y_pred2)\n",
    "print(cm2)"
   ]
  },
  {
   "cell_type": "markdown",
   "metadata": {},
   "source": [
    "<b>(Me)</b> We have a much more accurate model now (80%), but the confusion is still high."
   ]
  },
  {
   "cell_type": "markdown",
   "metadata": {},
   "source": [
    "3. Briefly discuss how Ultimate might leverage the insights gained from the model to improve its longterm rider retention (again, a few sentences will suffice)."
   ]
  },
  {
   "cell_type": "markdown",
   "metadata": {},
   "source": [
    "<b>(Me)</b> Our model identified a few important predictors that increased likelihood of retention:\n",
    "<ul>\n",
    "<li>The average rating of the user by drivers</li>\n",
    "<li>Whether the user faced surge pricing often</li>\n",
    "<li>Whether the user was in King's Landing</li>\n",
    "<li>Whether the user was on an iPhone instead of Android</li>\n",
    "<li>Whether the user tried/used Ulitmate Black</li>\n",
    "</ul>\n",
    "    \n",
    "For each of these, we could brainstorm hypotheses about how to use these insights to bump our retention rate:\n",
    "\n",
    "<ul>\n",
    "<li>Thanking new users when their driver gives them a good rating (if sociability is behind the rating-retention correlation)</li>\n",
    "<li>Spoofing new users to have 5 stars for their first ~10 rides (if it's the case that a low first rating deters users or deters drivers from picking them up)</li>\n",
    "<li>Insulating new users from surge pricing, then easing them into the system, or explaining why surge pricing is important</li>\n",
    "<li>Getting new users to try Ulitmate Black</li>\n",
    "<li>Ad campaigns more directly targeted to a mid-to-upper tier riders (income may be correlated to King's Landing, iPhones, and Ultimate Black)</li>\n",
    "</ul>\n",
    "</font>"
   ]
  },
  {
   "cell_type": "code",
   "execution_count": null,
   "metadata": {},
   "outputs": [],
   "source": []
  }
 ],
 "metadata": {
  "kernelspec": {
   "display_name": "Python 3",
   "language": "python",
   "name": "python3"
  },
  "language_info": {
   "codemirror_mode": {
    "name": "ipython",
    "version": 3
   },
   "file_extension": ".py",
   "mimetype": "text/x-python",
   "name": "python",
   "nbconvert_exporter": "python",
   "pygments_lexer": "ipython3",
   "version": "3.7.2"
  }
 },
 "nbformat": 4,
 "nbformat_minor": 2
}
